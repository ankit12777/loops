{
  "nbformat": 4,
  "nbformat_minor": 0,
  "metadata": {
    "colab": {
      "provenance": []
    },
    "kernelspec": {
      "name": "python3",
      "display_name": "Python 3"
    },
    "language_info": {
      "name": "python"
    }
  },
  "cells": [
    {
      "cell_type": "code",
      "execution_count": null,
      "metadata": {
        "id": "d2m10jtrWxTV"
      },
      "outputs": [],
      "source": []
    },
    {
      "cell_type": "markdown",
      "source": [
        "# THERORITICAL QUESTION ..."
      ],
      "metadata": {
        "id": "wi5E70oEW08F"
      }
    },
    {
      "cell_type": "markdown",
      "source": [
        "1.   What is Object-Oriented Programming (OOP)?\n",
        "\n",
        "       OPPS IS a programming basesd on the object which instances of classes. it is used to used to structure software in away that is modular , resualbles and easier to manage.\n",
        "\n",
        "\n",
        "\n",
        "2.   What is a class in OOP?\n",
        "\n",
        "        class is a blueprint or template for creating an objects .\n",
        "        it defines what kind of data its object will have.\n",
        "        its are the instances.\n",
        "\n",
        "\n",
        "3.   What is an object in OOP?\n",
        "\n",
        "          an object is real world entity created using a class. its an instance of class that contains data atributes and can perform actions.\n",
        "\n",
        "\n",
        "4.  What is the difference between abstraction and encapsulation?\n",
        "      \n",
        "      ABSTRACTION : DON'T show how it works\n",
        "      ENCAPSULATION : don't let others mess with how it works\n",
        "\n",
        "      feature                abstraction                 encapsulation\n",
        "\n",
        "       FOCUS         hides implementation  details    hide data(information)\n",
        "       used for    simplyfying interfence          protecting data\n",
        "\n",
        "\n",
        "  5.  What are dunder methods in Python?\n",
        "\n",
        "          dunder methods are special built in methods in python that start and end with the double underscores. like\n",
        "          _init_ , _str_ , _len_ etc...\n",
        "\n",
        "\n",
        " 6. Explain the concept of inheritance in OOP?\n",
        "\n",
        "          it is yhe one of four pillars oop and it allow a class (child , subclass) to inherit properties and behaviours (methods) from another class.\n",
        "\n",
        "\n",
        "7.  What is polymorphism in OOP?\n",
        "\n",
        "      it means many forms .    it allows one interface to be used for diffrent data types or classes, enabling object to behave diffrently based on their class, even if they share the same method.\n",
        "\n",
        "\n",
        "8.   How is encapsulation achieved in Python?\n",
        "\n",
        "       encapsulation is a process of wrapping data(attributes) and the methods that operate on the data within single class and restricting access to some of the objects components to protect data from unauthorised access.\n",
        "\n",
        "\n",
        "9.   What is a constructor in Python?\n",
        "\n",
        "         constructor is a special method used to initailizes object when they are created from a class .\n",
        "         it is automatically called when a new object is created.\n",
        "\n",
        "\n",
        "10.   What are class and static methods in Python?\n",
        "\n",
        "           both are special methods in python classes that change how they interact with the class and objects, and they are defined using decorators.\n",
        "\n",
        "\n",
        "11.    What is method overloading in Python?\n",
        "\n",
        "          it means defing multiple methods in the same class with the same name but diffrent number or types of arguments.\n",
        "\n",
        "        python does not support tradional method overloading like java or c++.\n",
        "\n",
        "\n",
        "12.    What is method overriding in OOP?\n",
        "     \n",
        "       it is a concept in oop where multiple methods in the same but diffrent parameters (number or type of arguments ).\n",
        "       . to perform similiar function in diffrent ways based on input types.\n",
        "\n",
        "13.   What is a property decorator in Python?\n",
        "\n",
        "         it is uesd to define greater methods in a clean and renewable way, allowing you to acess methods like attributes , without calling them with prepardness().\n",
        "\n",
        "14.     Why is polymorphism important in OOP?\n",
        "\n",
        "           polymorphism is one of the core principles of oop (along with other principles) .it plays key role in making code flexible , maintainable and extensible.\n",
        "\n",
        "\n",
        "15.     What is an abstract class in Python?\n",
        "        \n",
        "        its the class that cannot be intalled directly. it is meant to be a blueprint for each other classes . define common structure and behaviour, but leaves the implementation to child classes.\n",
        "\n",
        "\n",
        "16.    What are the advantages of OOP?\n",
        "\n",
        "         it is a powerful programming paradigm that organizes software design around object rather than actions.\n",
        "         it helps developers write cleaner, reusable and more maintable code.\n",
        "\n",
        "\n",
        "17.      What is the difference between a class variable and an instance variable?\n",
        "      \n",
        "      CLASS VARIABLE                     INSTANCE VARIABLE\n",
        "\n",
        "      .bleomg to the class itself              .  belong to object\n",
        "      .shared by all instance of all classes      . unique to each other\n",
        "      . defined outside_init_() method           . defined inside _init_()\n",
        "\n",
        "\n",
        "18.   What is multiple inheritance in Python?\n",
        "\n",
        "         multiple inheritence means a class can inherit from more than one parent class.\n",
        "         this allow a child class to access attributes and methods from multiple base classes.\n",
        "\n",
        "\n",
        "19.     Explain the purpose of ‘’__str__’ and ‘__repr__’ ‘ methods in Python?\n",
        "\n",
        "           \"_str_\"\n",
        "           used to define the \"informal\" or readable string of the object.\n",
        "           called by print(obj) or str(onj).\n",
        "\n",
        "           \"_repr_\"\n",
        "           used to define the \"official\" string of the object.\n",
        "           called by repr(onj) or just typing the object in the console.\n",
        "\n",
        "\n",
        "20.    What is the significance of the ‘super()’ function in Python?\n",
        "\n",
        "           acsess parent class method without explicitly naming them.\n",
        "           avoid code duplication in child classes.\n",
        "           hepls in maintaing MRO especially in multiple heritance .\n",
        "\n",
        "\n",
        "21.    What is the significance of the __del__ method in Python?\n",
        "\n",
        "        it used to free resources eg. (close files , release memory, disconnect database).\n",
        "        to perform clean up actions when an object is deleted or goes out of scope.\n",
        "\n",
        "\n",
        "\n",
        "22.    What is the difference between @staticmethod and @classmethod in Python?\n",
        "\n",
        "     CLASS METHOD                       STATIC METHOD\n",
        "\n",
        "  @classmethod                       @staticmethod\n",
        "  . cls(refer to class)              . no self class or cls\n",
        "  . access to class data             . no access\n",
        "  . modify class level data          . utility functions (not tied to class)\n",
        "\n",
        "\n",
        "\n",
        "23.   How does polymorphism work in Python with inheritance?\n",
        "\n",
        "        it aloows objects of diffrent classes to be treated as if they are objects of the same parent class ,particularly when they share common methods.\n",
        "        class animal:\n",
        "            def speAK(self):\n",
        "            print(\"animal speaks\")\n",
        "\n",
        "\n",
        "24.  What is method chaining in Python OOP?\n",
        "\n",
        "       it refers to calling multiple methods subsequently on the same object , in a single line , by returning the object(self) at the end of each method.\n",
        "\n",
        "\n",
        "25.  What is the purpose of the __call__ method in Python?\n",
        "\n",
        "       it is a special dunder method in python that allow object to be called like a function.\n",
        "       it's main purpose to make an object behave like a function by defining customs behaviour when its\"called\".\n",
        "\n",
        "\n",
        "          \n",
        "\n",
        "          \n",
        "\n",
        "\n",
        "\n",
        "\n",
        "\n",
        "        \n",
        "\n",
        "\n",
        "          \n",
        "\n"
      ],
      "metadata": {
        "id": "dYxxgNvHXHtP"
      }
    },
    {
      "cell_type": "markdown",
      "source": [
        "  PRATICAL QUESTIONS"
      ],
      "metadata": {
        "id": "3OAgDuQfEiz4"
      }
    },
    {
      "cell_type": "markdown",
      "source": [
        "1. Create a parent class Animal with a method speak() that prints a generic message. Create a child class Dog\n",
        "that overrides the speak() method to print \"Bark!\"."
      ],
      "metadata": {
        "id": "C3PSmZSaE4RF"
      }
    },
    {
      "cell_type": "code",
      "source": [
        "class animal:\n",
        "  def speak(self):\n",
        "    print(\"animal speaks\")\n",
        "\n",
        "class dog(animal):\n",
        "  def speak(self):\n",
        "    print(\"bark!\")\n",
        "\n",
        "dog1 = dog()\n",
        "dog1.speak()"
      ],
      "metadata": {
        "id": "ORp4hRbHE6Jc"
      },
      "execution_count": null,
      "outputs": []
    },
    {
      "cell_type": "markdown",
      "source": [
        "2. Write a program to create an abstract class Shape with a method area(). Derive classes Circle and Rectangle\n",
        "from it and implement the area() method in both.2."
      ],
      "metadata": {
        "id": "8b81e4cIF0mz"
      }
    },
    {
      "cell_type": "code",
      "source": [
        "#abstract class\n",
        "class shpae(ABC):\n",
        "\n",
        "  @abstractmethod\n",
        "  def area(self):\n",
        "    pass\n",
        "\n",
        "#derived class: circle\n",
        "class circle(shape):\n",
        "  def_init_(self,radius):\n",
        "    self,radius = radius\n",
        "\n",
        "    def area(self):\n",
        "      return math.pi*self.radius"
      ],
      "metadata": {
        "id": "SVzACXLRFyE2"
      },
      "execution_count": null,
      "outputs": []
    },
    {
      "cell_type": "markdown",
      "source": [
        "3. Implement a multi-level inheritance scenario where a class Vehicle has an attribute type. Derive a class Car\n",
        "and further derive a class ElectricCar that adds a battery attribute."
      ],
      "metadata": {
        "id": "Ana6KdGAHWKv"
      }
    },
    {
      "cell_type": "code",
      "source": [
        "#base class\n",
        "class vechile:\n",
        "  def_init_(self, vechile _type):\n",
        "    self.vechile_type = vechile_type\n",
        "\n",
        "    def vechile_type(self):\n",
        "      return self.vechile_type\n",
        "\n",
        "#first derived class\n",
        "class driver (vechile):\n",
        "  def _init_(self,vechile_type,name):\n",
        "    super()._init_(vechile_type)\n",
        "    self.name = name\n",
        "\n",
        "    def name(self):\n",
        "      return self.name=\n",
        "      driver_name\n",
        ""
      ],
      "metadata": {
        "id": "yzXlsSUmHbEt"
      },
      "execution_count": null,
      "outputs": []
    },
    {
      "cell_type": "markdown",
      "source": [
        "4. Demonstrate polymorphism by creating a base class Bird with a method fly(). Create two derived classes\n",
        "Sparrow and Penguin that override the fly() method.\n"
      ],
      "metadata": {
        "id": "FMoOoeyBIrwp"
      }
    },
    {
      "cell_type": "code",
      "source": [
        "#base class\n",
        "class bird:\n",
        "  def fly(self):\n",
        "    print(\"bird can fly\")\n",
        "\n",
        "#derived class 1\n",
        "class sparrow(bird):\n",
        "  def fly(self):\n",
        "    print(\"sparrow can fly\")"
      ],
      "metadata": {
        "id": "AAPdZunyIwG6"
      },
      "execution_count": null,
      "outputs": []
    },
    {
      "cell_type": "markdown",
      "source": [
        "5. Write a program to demonstrate encapsulation by creating a class BankAccount with private attributes\n",
        "balance and methods to deposit, withdraw, and check balance"
      ],
      "metadata": {
        "id": "wAjjQxWLJINE"
      }
    },
    {
      "cell_type": "code",
      "source": [
        "class bankaccount:\n",
        "  def _init_(self,balance):\n",
        "    self._balance = balance=\n",
        "    initial_balance\n",
        "\n",
        "  def deposit(self,amount):\n",
        "    self.balance += amount\n",
        "    print(f\"Deposited ${amount}. New balance: ${self.balance}\")\n",
        "\n",
        "  def withdraw(self,amount):\n",
        "    if amount <= self.balance:\n",
        "      self.balance -= amount\n",
        "      print(f\"Withdrew ${amount}. New balance: ${self.balance}\")"
      ],
      "metadata": {
        "id": "Xlj9CfboJLzA"
      },
      "execution_count": null,
      "outputs": []
    },
    {
      "cell_type": "markdown",
      "source": [
        "6. Demonstrate runtime polymorphism using a method play() in a base class Instrument. Derive classes Guitar\n",
        "and Piano that implement their own version of play()."
      ],
      "metadata": {
        "id": "QjuNyxjxJqZq"
      }
    },
    {
      "cell_type": "code",
      "source": [
        "#base class\n",
        "class instrument:\n",
        "  def play(self):\n",
        "    print(\"playing instrument\")\n",
        "\n",
        "#derived class 1\n",
        "class guitar(instrument):\n",
        "  def play(self):\n",
        "    print(\"playing guitar\")\n",
        "\n"
      ],
      "metadata": {
        "id": "jtoyJ3WQJunz"
      },
      "execution_count": null,
      "outputs": []
    },
    {
      "cell_type": "markdown",
      "source": [
        "7. Create a class MathOperations with a class method add_numbers() to add two numbers and a static\n",
        "method subtract_numbers() to subtract two numbers."
      ],
      "metadata": {
        "id": "m9QUihxIJ-Kr"
      }
    },
    {
      "cell_type": "code",
      "source": [
        "class mathoperation:\n",
        "  @classmethod\n",
        "  def add_numbers(cls,num1,num2):\n",
        "    return num1+num2\n",
        "  @classmethod\n",
        "  def sub_numbers(cls,num1,num2):\n",
        "    return num1-num2"
      ],
      "metadata": {
        "id": "M9jjzNk7KBf7"
      },
      "execution_count": null,
      "outputs": []
    },
    {
      "cell_type": "markdown",
      "source": [
        "8. Implement a class Person with a class method to count the total number of persons created"
      ],
      "metadata": {
        "id": "ngOkGO9_KWIG"
      }
    },
    {
      "cell_type": "code",
      "source": [
        "class persons:\n",
        "  count = 0\n",
        "  def_init_(self):\n",
        "    persons.count += 1\n",
        "\n",
        "  @classmethod\n",
        "  def get_count(cls):\n",
        "    return cls.count\n",
        ""
      ],
      "metadata": {
        "id": "-xbCKwf2KZp6"
      },
      "execution_count": null,
      "outputs": []
    },
    {
      "cell_type": "markdown",
      "source": [
        "9. Write a class Fraction with attributes numerator and denominator. Override the str method to display the\n",
        "fraction as \"numerator/denominator\"."
      ],
      "metadata": {
        "id": "fjRmM14zKsVQ"
      }
    },
    {
      "cell_type": "code",
      "source": [
        "class function:\n",
        "  def_init_(self,numerator,denominator):\n",
        "    self.numerator = numerator\n",
        "    self.denominator = denominator\n",
        "\n",
        "  def _str_(self):\n",
        "    return f\"{self.numerator}/{self.denominator}\"\n",
        ""
      ],
      "metadata": {
        "id": "5jtf1Y0kKtJI"
      },
      "execution_count": null,
      "outputs": []
    },
    {
      "cell_type": "markdown",
      "source": [
        "10. Demonstrate operator overloading by creating a class Vector and overriding the add method to add two\n",
        "vectors."
      ],
      "metadata": {
        "id": "zAxgyWDtLDEF"
      }
    },
    {
      "cell_type": "code",
      "source": [
        "class vector:\n",
        "  def_init_(self,x,y):\n",
        "    self.x = x\n",
        "    self.y = y\n",
        "\n",
        "  def _add_(self,other):\n",
        "    return vector(self.x + other.x, self.y + other.y)"
      ],
      "metadata": {
        "id": "Xsjrpq2OLJpX"
      },
      "execution_count": null,
      "outputs": []
    }
  ]
}